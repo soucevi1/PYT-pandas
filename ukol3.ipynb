{
 "cells": [
  {
   "cell_type": "markdown",
   "metadata": {},
   "source": [
    "# MI-PYT Pandas"
   ]
  },
  {
   "cell_type": "code",
   "execution_count": 1,
   "metadata": {},
   "outputs": [],
   "source": [
    "import pandas"
   ]
  },
  {
   "cell_type": "code",
   "execution_count": 2,
   "metadata": {},
   "outputs": [],
   "source": [
    "data = pandas.read_csv('data/pythondevsurvey2017_raw_data.csv')\n",
    "data['id'] = range(0, len(data))"
   ]
  },
  {
   "cell_type": "markdown",
   "metadata": {},
   "source": [
    "## Kolik lidí celkem vyplnilo dotazník?"
   ]
  },
  {
   "cell_type": "code",
   "execution_count": 3,
   "metadata": {},
   "outputs": [
    {
     "name": "stdout",
     "output_type": "stream",
     "text": [
      "Celkem vyplnilo: 9506\n"
     ]
    }
   ],
   "source": [
    "print(f'Celkem vyplnilo: {len(data.index)}')"
   ]
  },
  {
   "cell_type": "markdown",
   "metadata": {},
   "source": [
    "## Kolik z respondentů aktuálně používá Python v nějakém projektu?"
   ]
  },
  {
   "cell_type": "code",
   "execution_count": 4,
   "metadata": {},
   "outputs": [
    {
     "name": "stdout",
     "output_type": "stream",
     "text": [
      "Aktualne pouziva Python: 8112\n"
     ]
    }
   ],
   "source": [
    "pyt_curr = data.loc[:, 'Is Python the main language you use for your current projects?']\n",
    "pythonists = data.loc[:, :][(pyt_curr == 'Yes') | (pyt_curr == 'No, I use Python as a secondary language')] \n",
    "print(f'Aktualne pouziva Python: {len(pythonists)}')"
   ]
  },
  {
   "cell_type": "markdown",
   "metadata": {},
   "source": [
    "## Kolik Pythonistů z Česka odpovědělo na dotazník? Kolik ze Slovenska?"
   ]
  },
  {
   "cell_type": "markdown",
   "metadata": {},
   "source": [
    "### Česko"
   ]
  },
  {
   "cell_type": "code",
   "execution_count": 5,
   "metadata": {},
   "outputs": [
    {
     "name": "stdout",
     "output_type": "stream",
     "text": [
      "Ceskych Pythonistu: 59\n"
     ]
    }
   ],
   "source": [
    "cntry = pythonists.loc[:, 'What country do you live in?']\n",
    "print(f\"Ceskych Pythonistu: {len(cntry[cntry == 'Czech Republic'])}\")"
   ]
  },
  {
   "cell_type": "markdown",
   "metadata": {},
   "source": [
    "### Slovensko"
   ]
  },
  {
   "cell_type": "code",
   "execution_count": 6,
   "metadata": {},
   "outputs": [
    {
     "name": "stdout",
     "output_type": "stream",
     "text": [
      "Slovenskych Pythonistu: 30\n"
     ]
    }
   ],
   "source": [
    "print(f\"Slovenskych Pythonistu: {len(cntry[cntry == 'Slovakia'])}\")"
   ]
  },
  {
   "cell_type": "markdown",
   "metadata": {},
   "source": [
    "## Kolik Pythonistů používá i staticky typované jazyky?"
   ]
  },
  {
   "cell_type": "code",
   "execution_count": 7,
   "metadata": {},
   "outputs": [
    {
     "name": "stdout",
     "output_type": "stream",
     "text": [
      "Pythoniste pouzivajici staticky typovane jazyky: 6129\n"
     ]
    }
   ],
   "source": [
    "# Get DataFrame for the 1st language\n",
    "jva_col = pythonists.loc[:,['Java:What other language(s) do you use?', 'id']]\n",
    "jva = jva_col.dropna()\n",
    "\n",
    "static_langs =['C#', 'C/C++', 'Objective-C', 'Go', 'Scala', 'SQL', 'Kotlin', 'Swift', 'Rust', 'TypeScript']\n",
    "\n",
    "# Iterate through all other languages\n",
    "for l in static_langs:\n",
    "    # Get dataframe of the current language\n",
    "    l_col = pythonists.loc[:, [f'{l}:What other language(s) do you use?', 'id']]\n",
    "    l_only = l_col.dropna()\n",
    "    # Merge dataframes together\n",
    "    jva = jva.merge(l_only, how='outer', left_on='id', right_on='id')\n",
    "sl = jva\n",
    "print(f'Pythoniste pouzivajici staticky typovane jazyky: {len(sl)}')\n"
   ]
  },
  {
   "cell_type": "markdown",
   "metadata": {},
   "source": [
    "## Kolik Pythonistů používá i ostatní dynamicky typované jazyky (tedy kromě Pythonu samotného)?"
   ]
  },
  {
   "cell_type": "code",
   "execution_count": 8,
   "metadata": {},
   "outputs": [
    {
     "name": "stdout",
     "output_type": "stream",
     "text": [
      "Pythoniste pouzivajici dynamicky typovane jazyky: 5899\n"
     ]
    }
   ],
   "source": [
    "# Get DataFrame for the 1st language\n",
    "js_col = pythonists.loc[:,['JavaScript:What other language(s) do you use?', 'id']]\n",
    "js = js_col.dropna()\n",
    "\n",
    "dynamic_langs = ['PHP', 'Ruby', 'Bash / Shell', 'Visual Basic', 'R', 'Clojure', 'Perl', 'Groovy', 'CoffeeScript']\n",
    "\n",
    "# Iterate through all other languages\n",
    "for l in dynamic_langs:\n",
    "    # Get dataframe of the current language\n",
    "    l_col = pythonists.loc[:, [f'{l}:What other language(s) do you use?', 'id']]\n",
    "    l_only = l_col.dropna()\n",
    "    # Merge dataframes together\n",
    "    js = js.merge(l_only, how='outer', left_on='id', right_on='id')\n",
    "dl = js\n",
    "print(f'Pythoniste pouzivajici dynamicky typovane jazyky: {len(dl)}')"
   ]
  },
  {
   "cell_type": "markdown",
   "metadata": {},
   "source": [
    "## Kolik Pythonistů používá jak staticky typované tak dynamicky typované jazyky?"
   ]
  },
  {
   "cell_type": "code",
   "execution_count": 9,
   "metadata": {},
   "outputs": [
    {
     "name": "stdout",
     "output_type": "stream",
     "text": [
      "Pythoniste pouzivajici oba typy jazyku zaroven: 4665\n"
     ]
    }
   ],
   "source": [
    "# sl - Pythonists using statically typed languages\n",
    "# dl - Pythonists using dynamically typed languages\n",
    "\n",
    "# Get intersect of the dataframes\n",
    "both = sl.merge(dl, left_on = 'id', right_on = 'id')\n",
    "print(f'Pythoniste pouzivajici oba typy jazyku zaroven: {len(both)}')"
   ]
  },
  {
   "cell_type": "markdown",
   "metadata": {},
   "source": [
    "## Vykreslete graf, který pro každý další jazyk ukáže procento Pythonistů, kteří:\n",
    "* pracují pouze na jednom projektu,\n",
    "* pracují na jednom hlavním a několika vedlejších projektech,\n",
    "* pracují na více projektech."
   ]
  },
  {
   "cell_type": "code",
   "execution_count": 10,
   "metadata": {},
   "outputs": [
    {
     "data": {
      "image/png": "[encoded data removed]",
      "text/plain": [
       "<Figure size 1080x504 with 1 Axes>"
      ]
     },
     "metadata": {
      "needs_background": "light"
     },
     "output_type": "display_data"
    }
   ],
   "source": [
    "import matplotlib\n",
    "%matplotlib inline\n",
    "\n",
    "# For some reason, proj_info = data.loc[:, \"Do you regularly work on multiple projects at the same time?\"]\n",
    "# does not work:\n",
    "# KeyError: 'the label [Do you regularly work on multiple projects at the same time?] is not in the [columns]'\n",
    "def get_key():\n",
    "    x = ''\n",
    "    for i in pythonists.columns:\n",
    "        if 'regularly' in i:\n",
    "            x = i\n",
    "    return x\n",
    "\n",
    "languages = ['None', 'Java', 'C#', 'C/C++', 'Objective-C', 'Go', 'Scala', 'SQL', 'Kotlin', 'Swift', 'Rust', 'TypeScript', \n",
    "            'PHP', 'Ruby', 'Bash / Shell', 'Visual Basic', 'R', 'Clojure', 'Perl', 'Groovy', 'CoffeeScript']\n",
    "\n",
    "percents = {} # lang: [one, side, more]\n",
    "for l in languages:\n",
    "    # Get language dataframe\n",
    "    ldf_nan = pythonists.loc[:, f'{l}:What other language(s) do you use?']\n",
    "    ldf = pythonists.loc[:, :][ldf_nan == f'{l}']\n",
    "    # No,  I only work on one project 329 128 460\n",
    "    proj_info = ldf.loc[:, get_key()]\n",
    "    one_proj = ldf.loc[:, :][proj_info == 'No,  I only work on one project']\n",
    "    l_one_proj = len(one_proj)\n",
    "    # Yes, I work on many different projects\n",
    "    more_proj = ldf.loc[:, :][proj_info == 'Yes, I work on many different projects']\n",
    "    l_more_proj = len(more_proj)\n",
    "    # Yes, I work on one main and several side projects\n",
    "    one_plus_side = ldf.loc[:][proj_info == 'Yes, I work on one main and several side projects']\n",
    "    l_one_plus_side = len(one_plus_side)\n",
    "    \n",
    "    one_perc = len(pythonists) / 100\n",
    "    percents[f'{l}'] = [l_one_proj/one_perc, l_one_plus_side/one_perc, l_more_proj/one_perc]\n",
    "    \n",
    "to_plot = pandas.DataFrame.from_dict(percents)\n",
    "\n",
    "# Set new X tick labels to rename 'None' to 'Python Only'\n",
    "xt = ['Python Only', 'Java', 'C#', 'C/C++', 'Objective-C', 'Go', 'Scala', 'SQL', 'Kotlin', 'Swift', 'Rust', 'TypeScript', \n",
    "            'PHP', 'Ruby', 'Bash / Shell', 'Visual Basic', 'R', 'Clojure', 'Perl', 'Groovy', 'CoffeeScript']\n",
    "plt = to_plot.T.plot.bar(figsize = (15,7), legend = True)\n",
    "plt.set_xticklabels(xt)\n",
    "plt.set_xlabel(\"Used Languages\")\n",
    "plt.legend([\"Only one project\", \"One project + side projects\", \"Many projects\"])\n",
    "# y makes sure the output of the last command is not written to Out[]\n",
    "y = plt.set_ylabel(\"Pythonists [%]\")"
   ]
  }
 ],
 "metadata": {
  "kernelspec": {
   "display_name": "Python 3",
   "language": "python",
   "name": "python3"
  },
  "language_info": {
   "codemirror_mode": {
    "name": "ipython",
    "version": 3
   },
   "file_extension": ".py",
   "mimetype": "text/x-python",
   "name": "python",
   "nbconvert_exporter": "python",
   "pygments_lexer": "ipython3",
   "version": "3.7.0"
  }
 },
 "nbformat": 4,
 "nbformat_minor": 2
}
